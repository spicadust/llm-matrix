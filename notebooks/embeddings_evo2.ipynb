{
 "cells": [
  {
   "cell_type": "code",
   "execution_count": 2,
   "metadata": {},
   "outputs": [
    {
     "name": "stdout",
     "output_type": "stream",
     "text": [
      "TRITON_LIBCUDA_PATH: /nix/store/z8ac4sgxc4h86zfmlz7yi0kkv95wgz84-graphics-drivers/lib\n"
     ]
    }
   ],
   "source": [
    "from dotenv import load_dotenv\n",
    "import os\n",
    "\n",
    "# Load the .env file\n",
    "load_dotenv()\n",
    "\n",
    "# Verify the path is set\n",
    "print(\"TRITON_LIBCUDA_PATH:\", os.getenv(\"TRITON_LIBCUDA_PATH\"))"
   ]
  },
  {
   "cell_type": "code",
   "execution_count": 3,
   "metadata": {},
   "outputs": [
    {
     "name": "stderr",
     "output_type": "stream",
     "text": [
      "100%|██████████| 25/25 [00:00<00:00, 661.87it/s]\n"
     ]
    },
    {
     "name": "stdout",
     "output_type": "stream",
     "text": [
      "Extra keys in state_dict: {'unembed.weight', 'blocks.10.mixer.dense._extra_state', 'blocks.24.mixer.dense._extra_state', 'blocks.3.mixer.dense._extra_state', 'blocks.17.mixer.dense._extra_state'}\n",
      "Initializing inference params with max_seqlen=404\n",
      "Prompt: \"ACGT\",\tOutput: \"CCGGCAAACCGCGTGCCAATCGTGAATCAGCATGAATCCGTTGCTAGGGCCGGTCTTGACAGAGCGAGCGACAGGGCGATTGGATTACTTAGAAGGGTTTTGTCGGCCGAGCCGATGAGACTCTGAGGAGGGAATGGCGTTACCACGAAGGTTCCGTCCTCTGCGTGCAGCTCTCCAGTCCAGCGCACAATCTGTGGCCCATGTTTTCGTTCCAACGCATCAATCCATTCTTGGCGGGTTTCCGGAATATAGGGAGCCGTTTTCTGTTGAAGGTCGTTGGACGAAACCTGGCCGTCTTTGTCGCGGCCTTCGACGATTCTGCGGTGGGAGGCAATTTCCTGTCACTTCCCAAATATGACTGGGCTGAGAGCGAACGCAACGACTCATCTGACGGCCGTCC\",\tScore: -1.3653998374938965\n",
      "CCGGCAAACCGCGTGCCAATCGTGAATCAGCATGAATCCGTTGCTAGGGCCGGTCTTGACAGAGCGAGCGACAGGGCGATTGGATTACTTAGAAGGGTTTTGTCGGCCGAGCCGATGAGACTCTGAGGAGGGAATGGCGTTACCACGAAGGTTCCGTCCTCTGCGTGCAGCTCTCCAGTCCAGCGCACAATCTGTGGCCCATGTTTTCGTTCCAACGCATCAATCCATTCTTGGCGGGTTTCCGGAATATAGGGAGCCGTTTTCTGTTGAAGGTCGTTGGACGAAACCTGGCCGTCTTTGTCGCGGCCTTCGACGATTCTGCGGTGGGAGGCAATTTCCTGTCACTTCCCAAATATGACTGGGCTGAGAGCGAACGCAACGACTCATCTGACGGCCGTCC\n"
     ]
    }
   ],
   "source": [
    "from evo2 import Evo2\n",
    "\n",
    "evo2_model = Evo2(\"evo2_1b_base\")\n",
    "\n",
    "output = evo2_model.generate(prompt_seqs=[\"ACGT\"], n_tokens=400, temperature=1.0, top_k=4)\n",
    "\n",
    "print(output.sequences[0])"
   ]
  },
  {
   "cell_type": "code",
   "execution_count": null,
   "metadata": {},
   "outputs": [],
   "source": []
  }
 ],
 "metadata": {
  "kernelspec": {
   "display_name": ".venv",
   "language": "python",
   "name": "python3"
  },
  "language_info": {
   "codemirror_mode": {
    "name": "ipython",
    "version": 3
   },
   "file_extension": ".py",
   "mimetype": "text/x-python",
   "name": "python",
   "nbconvert_exporter": "python",
   "pygments_lexer": "ipython3",
   "version": "3.12.7"
  }
 },
 "nbformat": 4,
 "nbformat_minor": 2
}
