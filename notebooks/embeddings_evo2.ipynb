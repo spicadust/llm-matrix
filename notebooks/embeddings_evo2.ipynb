{
 "cells": [
  {
   "cell_type": "code",
   "execution_count": null,
   "metadata": {},
   "outputs": [],
   "source": [
    "from evo2 import Evo2\n",
    "\n",
    "evo2_model = Evo2(\"evo2_1b_base\")\n",
    "\n",
    "output = evo2_model.generate(prompt_seqs=[\"ACGT\"], n_tokens=400, temperature=1.0, top_k=4)\n",
    "\n",
    "print(output.sequences[0])"
   ]
  }
 ],
 "metadata": {
  "kernelspec": {
   "display_name": ".venv",
   "language": "python",
   "name": "python3"
  },
  "language_info": {
   "name": "python",
   "version": "3.12.7"
  }
 },
 "nbformat": 4,
 "nbformat_minor": 2
}
