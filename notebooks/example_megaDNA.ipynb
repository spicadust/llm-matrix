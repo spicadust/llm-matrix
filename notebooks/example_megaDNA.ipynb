{
 "cells": [
  {
   "cell_type": "code",
   "execution_count": 1,
   "metadata": {},
   "outputs": [
    {
     "name": "stdout",
     "output_type": "stream",
     "text": [
      "CUDA_HOME: /run/current-system/sw\n",
      "PyTorch version: 2.6.0+cu124\n",
      "Python version: 3.12.9 (main, Feb 12 2025, 14:50:50) [Clang 19.1.6 ]\n",
      "\n",
      "CUDA available: True\n",
      "\n",
      "CUDA Device Details:\n",
      "  Device: NVIDIA GeForce RTX 4060 Ti\n",
      "  Total memory: 15.60 GB\n",
      "  CUDA capability: 8.9\n",
      "  Number of CUDA devices: 1\n"
     ]
    }
   ],
   "source": [
    "from dotenv import load_dotenv\n",
    "import torch\n",
    "import sys\n",
    "import os\n",
    "\n",
    "\n",
    "load_dotenv()  # will load from .env file in the same directory\n",
    "\n",
    "# Then add this to check the environment:\n",
    "\n",
    "print(f\"CUDA_HOME: {os.environ.get('CUDA_HOME', 'Not set')}\")\n",
    "\n",
    "\n",
    "def check_cuda():\n",
    "    print(f\"PyTorch version: {torch.__version__}\")\n",
    "    print(f\"Python version: {sys.version}\")\n",
    "\n",
    "    # Check if CUDA is available\n",
    "    cuda_available = torch.cuda.is_available()\n",
    "    print(f\"\\nCUDA available: {cuda_available}\")\n",
    "\n",
    "    if cuda_available:\n",
    "        # Get current CUDA device\n",
    "        current_device = torch.cuda.current_device()\n",
    "        # Get device properties\n",
    "        device_props = torch.cuda.get_device_properties(current_device)\n",
    "\n",
    "        print(\"\\nCUDA Device Details:\")\n",
    "        print(f\"  Device: {torch.cuda.get_device_name(current_device)}\")\n",
    "        print(f\"  Total memory: {device_props.total_memory / 1024**3:.2f} GB\")\n",
    "        print(f\"  CUDA capability: {device_props.major}.{device_props.minor}\")\n",
    "        print(f\"  Number of CUDA devices: {torch.cuda.device_count()}\")\n",
    "    else:\n",
    "        print(\"\\nNo CUDA devices available\")\n",
    "\n",
    "\n",
    "check_cuda()"
   ]
  },
  {
   "cell_type": "markdown",
   "metadata": {},
   "source": [
    "## model loading\n"
   ]
  },
  {
   "cell_type": "code",
   "execution_count": 2,
   "metadata": {},
   "outputs": [
    {
     "name": "stderr",
     "output_type": "stream",
     "text": [
      "/home/spica/Repos/megaDNA_matrix/.venv/lib/python3.12/site-packages/tqdm/auto.py:21: TqdmWarning: IProgress not found. Please update jupyter and ipywidgets. See https://ipywidgets.readthedocs.io/en/stable/user_install.html\n",
      "  from .autonotebook import tqdm as notebook_tqdm\n"
     ]
    },
    {
     "data": {
      "text/plain": [
       "MEGADNA(\n",
       "  (start_tokens): ParameterList(\n",
       "      (0): Parameter containing: [torch.float32 of size 512 (cuda:0)]\n",
       "      (1): Parameter containing: [torch.float32 of size 256 (cuda:0)]\n",
       "      (2): Parameter containing: [torch.float32 of size 196 (cuda:0)]\n",
       "  )\n",
       "  (token_embs): ModuleList(\n",
       "    (0): Embedding(6, 196)\n",
       "    (1): Sequential(\n",
       "      (0): Embedding(6, 196)\n",
       "      (1): Rearrange('... r d -> ... (r d)')\n",
       "      (2): LayerNorm((3136,), eps=1e-05, elementwise_affine=True)\n",
       "      (3): Linear(in_features=3136, out_features=256, bias=True)\n",
       "      (4): LayerNorm((256,), eps=1e-05, elementwise_affine=True)\n",
       "    )\n",
       "    (2): Sequential(\n",
       "      (0): Embedding(6, 196)\n",
       "      (1): Rearrange('... r d -> ... (r d)')\n",
       "      (2): LayerNorm((200704,), eps=1e-05, elementwise_affine=True)\n",
       "      (3): Linear(in_features=200704, out_features=512, bias=True)\n",
       "      (4): LayerNorm((512,), eps=1e-05, elementwise_affine=True)\n",
       "    )\n",
       "  )\n",
       "  (transformers): ModuleList(\n",
       "    (0): Transformer(\n",
       "      (layers): ModuleList(\n",
       "        (0-7): 8 x ModuleList(\n",
       "          (0): Attention(\n",
       "            (attend): Attend(\n",
       "              (attn_dropout): Dropout(p=0.0, inplace=False)\n",
       "            )\n",
       "            (dropout): Dropout(p=0.0, inplace=False)\n",
       "            (norm): RMSNorm()\n",
       "            (to_q): Linear(in_features=512, out_features=512, bias=False)\n",
       "            (to_kv): Linear(in_features=512, out_features=128, bias=False)\n",
       "            (to_out): Linear(in_features=512, out_features=512, bias=False)\n",
       "          )\n",
       "          (1): Sequential(\n",
       "            (0): RMSNorm()\n",
       "            (1): Linear(in_features=512, out_features=2048, bias=True)\n",
       "            (2): GELU(approximate='none')\n",
       "            (3): Dropout(p=0.0, inplace=False)\n",
       "            (4): Linear(in_features=2048, out_features=512, bias=True)\n",
       "          )\n",
       "        )\n",
       "      )\n",
       "      (norm): RMSNorm()\n",
       "    )\n",
       "    (1): Transformer(\n",
       "      (layers): ModuleList(\n",
       "        (0-7): 8 x ModuleList(\n",
       "          (0): Attention(\n",
       "            (attend): Attend(\n",
       "              (attn_dropout): Dropout(p=0.0, inplace=False)\n",
       "            )\n",
       "            (dropout): Dropout(p=0.0, inplace=False)\n",
       "            (norm): RMSNorm()\n",
       "            (to_q): Linear(in_features=256, out_features=512, bias=False)\n",
       "            (to_kv): Linear(in_features=256, out_features=128, bias=False)\n",
       "            (to_out): Linear(in_features=512, out_features=256, bias=False)\n",
       "          )\n",
       "          (1): Sequential(\n",
       "            (0): RMSNorm()\n",
       "            (1): Linear(in_features=256, out_features=1024, bias=True)\n",
       "            (2): GELU(approximate='none')\n",
       "            (3): Dropout(p=0.0, inplace=False)\n",
       "            (4): Linear(in_features=1024, out_features=256, bias=True)\n",
       "          )\n",
       "        )\n",
       "      )\n",
       "      (norm): RMSNorm()\n",
       "    )\n",
       "    (2): Transformer(\n",
       "      (layers): ModuleList(\n",
       "        (0-7): 8 x ModuleList(\n",
       "          (0): Attention(\n",
       "            (attend): Attend(\n",
       "              (attn_dropout): Dropout(p=0.0, inplace=False)\n",
       "            )\n",
       "            (dropout): Dropout(p=0.0, inplace=False)\n",
       "            (norm): RMSNorm()\n",
       "            (to_q): Linear(in_features=196, out_features=512, bias=False)\n",
       "            (to_kv): Linear(in_features=196, out_features=128, bias=False)\n",
       "            (to_out): Linear(in_features=512, out_features=196, bias=False)\n",
       "          )\n",
       "          (1): Sequential(\n",
       "            (0): RMSNorm()\n",
       "            (1): Linear(in_features=196, out_features=784, bias=True)\n",
       "            (2): GELU(approximate='none')\n",
       "            (3): Dropout(p=0.0, inplace=False)\n",
       "            (4): Linear(in_features=784, out_features=196, bias=True)\n",
       "          )\n",
       "        )\n",
       "      )\n",
       "      (norm): RMSNorm()\n",
       "    )\n",
       "  )\n",
       "  (to_next_transformer_projections): ModuleList(\n",
       "    (0): Sequential(\n",
       "      (0): Rearrange('b ... d -> b (...) d')\n",
       "      (1): Linear(in_features=512, out_features=16384, bias=True)\n",
       "      (2): Rearrange('b m (n d) -> (b m) n d', n=64)\n",
       "    )\n",
       "    (1): Sequential(\n",
       "      (0): Rearrange('b ... d -> b (...) d')\n",
       "      (1): Linear(in_features=256, out_features=3136, bias=True)\n",
       "      (2): Rearrange('b m (n d) -> (b m) n d', n=16)\n",
       "    )\n",
       "    (2): Identity()\n",
       "  )\n",
       "  (to_logits): Linear(in_features=196, out_features=6, bias=True)\n",
       ")"
      ]
     },
     "execution_count": 2,
     "metadata": {},
     "output_type": "execute_result"
    }
   ],
   "source": [
    "# model can be downloaded from https://huggingface.co/lingxusb/megaDNA_updated/resolve/main/megaDNA_phage_145M.pt\n",
    "model_path = \"../checkpoints/megaDNA_phage_145M.pt\"  # model name\n",
    "device = \"cuda\"  # change this to 'cuda' if you use GPU\n",
    "\n",
    "model = torch.load(model_path, map_location=torch.device(device), weights_only=False)\n",
    "model.eval()"
   ]
  },
  {
   "cell_type": "markdown",
   "metadata": {},
   "source": [
    "## sequence generation\n"
   ]
  },
  {
   "cell_type": "code",
   "execution_count": 2,
   "metadata": {},
   "outputs": [],
   "source": [
    "import numpy as np\n",
    "\n",
    "nucleotides = [\"**\", \"A\", \"T\", \"C\", \"G\", \"#\"]  # vocabulary\n",
    "\n",
    "\n",
    "def token2nucleotide(s):\n",
    "    return nucleotides[s]\n",
    "\n",
    "\n",
    "PRIME_LENGTH = 4  # give the model a random DNA primer to start\n",
    "num_seq = 2  # number of runs\n",
    "context_length = (\n",
    "    10000  # maximal length for the generated sequence (upper limit for the model is 131K)\n",
    ")"
   ]
  },
  {
   "cell_type": "code",
   "execution_count": null,
   "metadata": {},
   "outputs": [],
   "source": [
    "for j in range(num_seq):\n",
    "    # Load the pre-trained model\n",
    "    model = torch.load(model_path, map_location=torch.device(device), weights_only=False)\n",
    "    model.eval()  # Set the model to evaluation mode\n",
    "\n",
    "    # set the random DNA primer\n",
    "    primer_sequence = (\n",
    "        torch.tensor(np.random.choice(np.arange(1, 5), PRIME_LENGTH)).long().to(device)[None,]\n",
    "    )\n",
    "    primer_DNA = \"\".join(map(token2nucleotide, primer_sequence[0]))\n",
    "    print(f\"Primer sequence: {primer_DNA}\\n{'*' * 100}\")\n",
    "\n",
    "    # Generate a sequence using the model\n",
    "    seq_tokenized = model.generate(\n",
    "        primer_sequence, seq_len=context_length, temperature=0.95, filter_thres=0.0\n",
    "    )\n",
    "    generated_sequence = \"\".join(map(token2nucleotide, seq_tokenized.squeeze().cpu().int()))\n",
    "\n",
    "    # Split the generated sequence into contigs at the '#' character\n",
    "    contigs = generated_sequence.split(\"#\")\n",
    "\n",
    "    # Write the contigs to a .fna file\n",
    "    output_file_path = f\"generate_{1 + j}.fna\"\n",
    "    with open(output_file_path, \"w\") as file:\n",
    "        for idx, contig in enumerate(contigs):\n",
    "            if len(contig) > 0:\n",
    "                file.write(f\">contig_{idx}\\n{contig}\\n\")\n",
    "\n",
    "    # Clean up to free memory\n",
    "    del model, primer_sequence, generated_sequence\n",
    "    torch.cuda.empty_cache()"
   ]
  },
  {
   "cell_type": "markdown",
   "metadata": {},
   "source": [
    "## mutagenesis\n"
   ]
  },
  {
   "cell_type": "code",
   "execution_count": null,
   "metadata": {},
   "outputs": [],
   "source": [
    "from Bio import SeqIO\n",
    "from BCBio import GFF\n",
    "import random"
   ]
  },
  {
   "cell_type": "markdown",
   "metadata": {},
   "source": [
    "Please download the fasta file and gene annotation for lambda phage from https://www.ncbi.nlm.nih.gov/nuccore/NC_001416.1\n"
   ]
  },
  {
   "cell_type": "code",
   "execution_count": null,
   "metadata": {},
   "outputs": [],
   "source": [
    "# Read the FASTA file\n",
    "fasta_file_path = \"NC_001416.1.fasta\"\n",
    "seq_ids, sequences = [], []\n",
    "\n",
    "with open(fasta_file_path, \"r\") as fasta_file:\n",
    "    for record in SeqIO.parse(fasta_file, \"fasta\"):\n",
    "        seq_ids.append(record.id)\n",
    "        sequences.append(str(record.seq))\n",
    "\n",
    "# Read the gene annotations\n",
    "gff_file_path = \"NC_001416.1.gff3\"\n",
    "limit_info = dict(gff_type=[\"CDS\"])\n",
    "\n",
    "start_position, end_position, strand_position = [], [], []\n",
    "\n",
    "with open(gff_file_path) as in_handle:\n",
    "    for rec in GFF.parse(in_handle, limit_info=limit_info):\n",
    "        start_position.extend(feature.location.start for feature in rec.features)\n",
    "        end_position.extend(feature.location.end for feature in rec.features)\n",
    "        strand_position.extend(feature.location.strand for feature in rec.features)\n"
   ]
  },
  {
   "cell_type": "code",
   "execution_count": null,
   "metadata": {},
   "outputs": [],
   "source": [
    "nt = [\"**\", \"A\", \"T\", \"C\", \"G\", \"#\"]  # Vocabulary\n",
    "seq_id = 0  # Sequence ID\n",
    "\n",
    "\n",
    "def encode_sequence(sequence, nt_vocab=nt):\n",
    "    \"\"\"Encode a DNA sequence to its numerical representation.\"\"\"\n",
    "    return (\n",
    "        [0]\n",
    "        + [nt_vocab.index(nucleotide) if nucleotide in nt_vocab else 1 for nucleotide in sequence]\n",
    "        + [5]\n",
    "    )\n",
    "\n",
    "\n",
    "def get_loss_for_sequence(model, sequence, device):\n",
    "    \"\"\"Get model loss for a given sequence.\"\"\"\n",
    "    input_seq = torch.tensor(sequence).unsqueeze(0).to(device)\n",
    "    with torch.no_grad():\n",
    "        loss = model(input_seq, return_value=\"loss\")\n",
    "    return loss\n",
    "\n",
    "\n",
    "# Get the model loss for the WT sequence\n",
    "encoded_wt_sequence = encode_sequence(sequences[seq_id])\n",
    "wt_loss = get_loss_for_sequence(model, encoded_wt_sequence, device)\n",
    "print(wt_loss)\n",
    "\n",
    "# Get the model loss for the mutants in the start codons\n",
    "loss_start = []\n",
    "random.seed(42)\n",
    "for j, (start, end, strand) in enumerate(zip(start_position, end_position, strand_position)):\n",
    "    encoded_mutant_sequence = encode_sequence(sequences[seq_id])\n",
    "\n",
    "    # Mutate start codon positions based on strand orientation\n",
    "    positions = range(start + 1, start + 4) if strand == 1 else range(end - 2, end + 1)\n",
    "    for i in positions:\n",
    "        encoded_mutant_sequence[i] = random.choice([1, 2, 3, 4])\n",
    "\n",
    "    # Get model loss for mutated sequence\n",
    "    mutant_loss = get_loss_for_sequence(model, encoded_mutant_sequence, device)\n",
    "    loss_start.append(mutant_loss)"
   ]
  },
  {
   "cell_type": "markdown",
   "metadata": {},
   "source": [
    "## embedding and loss\n"
   ]
  },
  {
   "cell_type": "code",
   "execution_count": 3,
   "metadata": {},
   "outputs": [],
   "source": [
    "import numpy as np"
   ]
  },
  {
   "cell_type": "code",
   "execution_count": 5,
   "metadata": {},
   "outputs": [
    {
     "name": "stdout",
     "output_type": "stream",
     "text": [
      "(128, 64, 16)\n"
     ]
    }
   ],
   "source": [
    "print(model.max_seq_len)\n",
    "# max sequence length: 128*64*16 = 131072"
   ]
  },
  {
   "cell_type": "code",
   "execution_count": 9,
   "metadata": {},
   "outputs": [],
   "source": [
    "# a random input sequence\n",
    "encoded_sequence = np.random.choice(np.arange(1, 5), 10000)\n",
    "input_seq = torch.tensor(encoded_sequence).unsqueeze(0).to(device)\n",
    "embeddings = model(input_seq, return_value=\"embedding\")\n",
    "# print(embeddings)"
   ]
  },
  {
   "cell_type": "code",
   "execution_count": 10,
   "metadata": {},
   "outputs": [
    {
     "name": "stdout",
     "output_type": "stream",
     "text": [
      "3\n",
      "torch.Size([1, 11, 512])\n",
      "torch.Size([10, 65, 256])\n",
      "torch.Size([640, 17, 196])\n"
     ]
    }
   ],
   "source": [
    "print(len(embeddings))\n",
    "print(embeddings[0].shape)\n",
    "print(embeddings[1].shape)\n",
    "print(embeddings[2].shape)"
   ]
  },
  {
   "cell_type": "code",
   "execution_count": 11,
   "metadata": {},
   "outputs": [
    {
     "name": "stdout",
     "output_type": "stream",
     "text": [
      "tensor(1.4106, device='cuda:0', grad_fn=<NllLoss2DBackward0>)\n"
     ]
    }
   ],
   "source": [
    "loss = model(input_seq, return_value=\"loss\")\n",
    "print(loss)"
   ]
  },
  {
   "cell_type": "code",
   "execution_count": null,
   "metadata": {},
   "outputs": [],
   "source": [
    "# try with longer sequence to verify the max sequence length\n",
    "\n",
    "import gc\n",
    "\n",
    "# Clear memory first\n",
    "gc.collect()\n",
    "torch.cuda.empty_cache()\n",
    "\n",
    "# Process sequence\n",
    "\n",
    "encoded_sequence = np.random.choice(np.arange(1, 5), 131072)\n",
    "input_seq = torch.tensor(encoded_sequence).unsqueeze(0).to(device)\n",
    "\n",
    "with torch.no_grad():\n",
    "    embeddings = model(input_seq, return_value=\"embedding\")\n",
    "    embeddings = [e.cpu().numpy() for e in embeddings]  # Move to CPU right away\n",
    "\n",
    "# Clear GPU memory again\n",
    "torch.cuda.empty_cache()"
   ]
  }
 ],
 "metadata": {
  "kernelspec": {
   "display_name": "Python 3 (ipykernel)",
   "language": "python",
   "name": "python3"
  },
  "language_info": {
   "codemirror_mode": {
    "name": "ipython",
    "version": 3
   },
   "file_extension": ".py",
   "mimetype": "text/x-python",
   "name": "python",
   "nbconvert_exporter": "python",
   "pygments_lexer": "ipython3",
   "version": "3.12.9"
  }
 },
 "nbformat": 4,
 "nbformat_minor": 2
}
