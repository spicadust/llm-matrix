{
 "cells": [
  {
   "cell_type": "code",
   "execution_count": 2,
   "metadata": {},
   "outputs": [],
   "source": [
    "from Bio import SeqIO\n",
    "import pandas as pd"
   ]
  },
  {
   "cell_type": "code",
   "execution_count": 3,
   "metadata": {},
   "outputs": [],
   "source": [
    "# Load dataset\n",
    "fasta_file_path = \"../dataset/1Jan2025_genomes.fa\"\n",
    "sequences = list(SeqIO.parse(fasta_file_path, \"fasta\"))"
   ]
  },
  {
   "cell_type": "code",
   "execution_count": 4,
   "metadata": {},
   "outputs": [
    {
     "data": {
      "text/plain": [
       "SeqRecord(seq=Seq('TTTGGTGGAGCTGGCGGGAGTTGAACCCGCGTCCGAAATTCCTACATACCATTT...CAT'), id='AY319521', name='AY319521', description='AY319521 Salmonella phage SopEPhi, complete sequence.', dbxrefs=[])"
      ]
     },
     "execution_count": 4,
     "metadata": {},
     "output_type": "execute_result"
    }
   ],
   "source": [
    "sequences[0]"
   ]
  },
  {
   "cell_type": "code",
   "execution_count": 6,
   "metadata": {},
   "outputs": [
    {
     "data": {
      "text/plain": [
       "count     32043.000000\n",
       "mean      60215.966607\n",
       "std       55524.968903\n",
       "min        1761.000000\n",
       "25%       33532.500000\n",
       "50%       44866.000000\n",
       "75%       67557.500000\n",
       "max      735411.000000\n",
       "dtype: float64"
      ]
     },
     "execution_count": 6,
     "metadata": {},
     "output_type": "execute_result"
    }
   ],
   "source": [
    "seq_lengths = [len(str(seq.seq)) for seq in sequences]\n",
    "summary = pd.Series(seq_lengths).describe()\n",
    "summary"
   ]
  },
  {
   "cell_type": "code",
   "execution_count": 21,
   "metadata": {},
   "outputs": [
    {
     "data": {
      "image/png": "[encoded data removed]",
      "text/plain": [
       "<Figure size 800x500 with 1 Axes>"
      ]
     },
     "metadata": {},
     "output_type": "display_data"
    }
   ],
   "source": [
    "import matplotlib.pyplot as plt\n",
    "\n",
    "plt.figure(figsize=(8, 5))\n",
    "plt.hist(seq_lengths, color=\"#9ecae1\", bins=1000)\n",
    "plt.title(\"Distribution of Sequence Lengths\")\n",
    "plt.xlabel(\"Sequence Length\")\n",
    "plt.ylabel(\"Frequency\")\n",
    "plt.yscale(\"log\")\n",
    "# add a line for the model's expected max length: 131072\n",
    "plt.axvline(x=131072, color=\"#3182bd\", linestyle=\"--\", label=\"Max Length for Model: 131,072\")\n",
    "plt.legend()\n",
    "plt.show()"
   ]
  },
  {
   "cell_type": "code",
   "execution_count": 47,
   "metadata": {},
   "outputs": [],
   "source": [
    "metadata = pd.read_csv(\"../dataset/data.tsv\", sep=\"\\t\")"
   ]
  },
  {
   "cell_type": "code",
   "execution_count": 49,
   "metadata": {},
   "outputs": [
    {
     "data": {
      "text/plain": [
       "(32043, 27)"
      ]
     },
     "execution_count": 49,
     "metadata": {},
     "output_type": "execute_result"
    }
   ],
   "source": [
    "metadata.shape"
   ]
  },
  {
   "cell_type": "code",
   "execution_count": 48,
   "metadata": {},
   "outputs": [
    {
     "data": {
      "text/html": [
       "<div>\n",
       "<style scoped>\n",
       "    .dataframe tbody tr th:only-of-type {\n",
       "        vertical-align: middle;\n",
       "    }\n",
       "\n",
       "    .dataframe tbody tr th {\n",
       "        vertical-align: top;\n",
       "    }\n",
       "\n",
       "    .dataframe thead th {\n",
       "        text-align: right;\n",
       "    }\n",
       "</style>\n",
       "<table border=\"1\" class=\"dataframe\">\n",
       "  <thead>\n",
       "    <tr style=\"text-align: right;\">\n",
       "      <th></th>\n",
       "      <th>Accession</th>\n",
       "      <th>Description</th>\n",
       "      <th>Classification</th>\n",
       "      <th>Genome Length (bp)</th>\n",
       "      <th>Jumbophage</th>\n",
       "      <th>molGC (%)</th>\n",
       "      <th>Molecule</th>\n",
       "      <th>Modification Date</th>\n",
       "      <th>Number CDS</th>\n",
       "      <th>Positive Strand (%)</th>\n",
       "      <th>...</th>\n",
       "      <th>Sub-family</th>\n",
       "      <th>Family</th>\n",
       "      <th>Order</th>\n",
       "      <th>Class</th>\n",
       "      <th>Phylum</th>\n",
       "      <th>Kingdom</th>\n",
       "      <th>Realm</th>\n",
       "      <th>Baltimore Group</th>\n",
       "      <th>Genbank Division</th>\n",
       "      <th>Isolation Host (beware inconsistent and nonsense values)</th>\n",
       "    </tr>\n",
       "  </thead>\n",
       "  <tbody>\n",
       "    <tr>\n",
       "      <th>0</th>\n",
       "      <td>AY319521</td>\n",
       "      <td>Salmonella phage SopEPhi</td>\n",
       "      <td>Salmonella phage SopEPhi Felsduovirus SopEphi ...</td>\n",
       "      <td>35155</td>\n",
       "      <td>False</td>\n",
       "      <td>51.321</td>\n",
       "      <td>DNA</td>\n",
       "      <td>22-MAR-2024</td>\n",
       "      <td>45</td>\n",
       "      <td>82.222222</td>\n",
       "      <td>...</td>\n",
       "      <td>Unclassified</td>\n",
       "      <td>Peduoviridae</td>\n",
       "      <td>Unclassified</td>\n",
       "      <td>Caudoviricetes</td>\n",
       "      <td>Uroviricota</td>\n",
       "      <td>Heunggongvirae</td>\n",
       "      <td>Duplodnaviria</td>\n",
       "      <td>Group I</td>\n",
       "      <td>SYN</td>\n",
       "      <td>Salmonella enterica subsp. enterica serovar Ty...</td>\n",
       "    </tr>\n",
       "    <tr>\n",
       "      <th>1</th>\n",
       "      <td>MW175890</td>\n",
       "      <td>Dompiswa phage TSP7_1</td>\n",
       "      <td>Dompiswa phage TSP7_1 Phapecoctavirus TSP7 Pha...</td>\n",
       "      <td>150892</td>\n",
       "      <td>False</td>\n",
       "      <td>39.115</td>\n",
       "      <td>DNA</td>\n",
       "      <td>10-JAN-2024</td>\n",
       "      <td>272</td>\n",
       "      <td>49.632353</td>\n",
       "      <td>...</td>\n",
       "      <td>Stephanstirmvirinae</td>\n",
       "      <td>Unclassified</td>\n",
       "      <td>Unclassified</td>\n",
       "      <td>Caudoviricetes</td>\n",
       "      <td>Uroviricota</td>\n",
       "      <td>Heunggongvirae</td>\n",
       "      <td>Duplodnaviria</td>\n",
       "      <td>Group I</td>\n",
       "      <td>ENV</td>\n",
       "      <td>Unspecified</td>\n",
       "    </tr>\n",
       "    <tr>\n",
       "      <th>2</th>\n",
       "      <td>GU339467</td>\n",
       "      <td>Mycobacterium phage RedRock</td>\n",
       "      <td>Mycobacterium phage RedRock Fromanvirus redroc...</td>\n",
       "      <td>53332</td>\n",
       "      <td>False</td>\n",
       "      <td>64.530</td>\n",
       "      <td>DNA</td>\n",
       "      <td>29-AUG-2023</td>\n",
       "      <td>90</td>\n",
       "      <td>40.000000</td>\n",
       "      <td>...</td>\n",
       "      <td>Unclassified</td>\n",
       "      <td>Unclassified</td>\n",
       "      <td>Unclassified</td>\n",
       "      <td>Caudoviricetes</td>\n",
       "      <td>Uroviricota</td>\n",
       "      <td>Heunggongvirae</td>\n",
       "      <td>Duplodnaviria</td>\n",
       "      <td>Group I</td>\n",
       "      <td>ENV</td>\n",
       "      <td>Unspecified</td>\n",
       "    </tr>\n",
       "    <tr>\n",
       "      <th>3</th>\n",
       "      <td>MF417929</td>\n",
       "      <td>Uncultured Caudovirales phage clone 2F_1</td>\n",
       "      <td>Uncultured Caudovirales phage clone 2F_1 Bracc...</td>\n",
       "      <td>32618</td>\n",
       "      <td>False</td>\n",
       "      <td>39.218</td>\n",
       "      <td>DNA</td>\n",
       "      <td>01-NOV-2022</td>\n",
       "      <td>42</td>\n",
       "      <td>16.666667</td>\n",
       "      <td>...</td>\n",
       "      <td>Unclassified</td>\n",
       "      <td>Peduoviridae</td>\n",
       "      <td>Caudovirales</td>\n",
       "      <td>Caudoviricetes</td>\n",
       "      <td>Uroviricota</td>\n",
       "      <td>Heunggongvirae</td>\n",
       "      <td>Duplodnaviria</td>\n",
       "      <td>Group I</td>\n",
       "      <td>ENV</td>\n",
       "      <td>Unspecified</td>\n",
       "    </tr>\n",
       "    <tr>\n",
       "      <th>4</th>\n",
       "      <td>MH616963</td>\n",
       "      <td>crAssphage sp. isolate ctbg_1</td>\n",
       "      <td>crAssphage sp. isolate ctbg_1 Whopevirus anima...</td>\n",
       "      <td>94878</td>\n",
       "      <td>False</td>\n",
       "      <td>28.507</td>\n",
       "      <td>DNA</td>\n",
       "      <td>25-OCT-2022</td>\n",
       "      <td>89</td>\n",
       "      <td>56.179775</td>\n",
       "      <td>...</td>\n",
       "      <td>Crudevirinae</td>\n",
       "      <td>Intestiviridae</td>\n",
       "      <td>Crassvirales</td>\n",
       "      <td>Caudoviricetes</td>\n",
       "      <td>Uroviricota</td>\n",
       "      <td>Heunggongvirae</td>\n",
       "      <td>Duplodnaviria</td>\n",
       "      <td>Group I</td>\n",
       "      <td>ENV</td>\n",
       "      <td>Unspecified</td>\n",
       "    </tr>\n",
       "  </tbody>\n",
       "</table>\n",
       "<p>5 rows × 27 columns</p>\n",
       "</div>"
      ],
      "text/plain": [
       "  Accession                               Description  \\\n",
       "0  AY319521                  Salmonella phage SopEPhi   \n",
       "1  MW175890                     Dompiswa phage TSP7_1   \n",
       "2  GU339467               Mycobacterium phage RedRock   \n",
       "3  MF417929  Uncultured Caudovirales phage clone 2F_1   \n",
       "4  MH616963             crAssphage sp. isolate ctbg_1   \n",
       "\n",
       "                                      Classification  Genome Length (bp)  \\\n",
       "0  Salmonella phage SopEPhi Felsduovirus SopEphi ...               35155   \n",
       "1  Dompiswa phage TSP7_1 Phapecoctavirus TSP7 Pha...              150892   \n",
       "2  Mycobacterium phage RedRock Fromanvirus redroc...               53332   \n",
       "3  Uncultured Caudovirales phage clone 2F_1 Bracc...               32618   \n",
       "4  crAssphage sp. isolate ctbg_1 Whopevirus anima...               94878   \n",
       "\n",
       "   Jumbophage  molGC (%) Molecule Modification Date  Number CDS  \\\n",
       "0       False     51.321      DNA       22-MAR-2024          45   \n",
       "1       False     39.115      DNA       10-JAN-2024         272   \n",
       "2       False     64.530      DNA       29-AUG-2023          90   \n",
       "3       False     39.218      DNA       01-NOV-2022          42   \n",
       "4       False     28.507      DNA       25-OCT-2022          89   \n",
       "\n",
       "   Positive Strand (%)  ...           Sub-family          Family  \\\n",
       "0            82.222222  ...         Unclassified    Peduoviridae   \n",
       "1            49.632353  ...  Stephanstirmvirinae    Unclassified   \n",
       "2            40.000000  ...         Unclassified    Unclassified   \n",
       "3            16.666667  ...         Unclassified    Peduoviridae   \n",
       "4            56.179775  ...         Crudevirinae  Intestiviridae   \n",
       "\n",
       "          Order           Class       Phylum         Kingdom          Realm  \\\n",
       "0  Unclassified  Caudoviricetes  Uroviricota  Heunggongvirae  Duplodnaviria   \n",
       "1  Unclassified  Caudoviricetes  Uroviricota  Heunggongvirae  Duplodnaviria   \n",
       "2  Unclassified  Caudoviricetes  Uroviricota  Heunggongvirae  Duplodnaviria   \n",
       "3  Caudovirales  Caudoviricetes  Uroviricota  Heunggongvirae  Duplodnaviria   \n",
       "4  Crassvirales  Caudoviricetes  Uroviricota  Heunggongvirae  Duplodnaviria   \n",
       "\n",
       "  Baltimore Group Genbank Division  \\\n",
       "0         Group I              SYN   \n",
       "1         Group I              ENV   \n",
       "2         Group I              ENV   \n",
       "3         Group I              ENV   \n",
       "4         Group I              ENV   \n",
       "\n",
       "  Isolation Host (beware inconsistent and nonsense values)  \n",
       "0  Salmonella enterica subsp. enterica serovar Ty...        \n",
       "1                                        Unspecified        \n",
       "2                                        Unspecified        \n",
       "3                                        Unspecified        \n",
       "4                                        Unspecified        \n",
       "\n",
       "[5 rows x 27 columns]"
      ]
     },
     "execution_count": 48,
     "metadata": {},
     "output_type": "execute_result"
    }
   ],
   "source": [
    "metadata.head()"
   ]
  },
  {
   "cell_type": "code",
   "execution_count": 40,
   "metadata": {},
   "outputs": [
    {
     "name": "stdout",
     "output_type": "stream",
     "text": [
      "Index(['Accession', 'Description', 'Classification', 'Genome Length (bp)',\n",
      "       'Jumbophage', 'molGC (%)', 'Molecule', 'Modification Date',\n",
      "       'Number CDS', 'Positive Strand (%)', 'Negative Strand (%)',\n",
      "       'Coding Capacity (%)', 'Low Coding Capacity Warning', 'tRNAs', 'Host',\n",
      "       'Lowest Taxa', 'Genus', 'Sub-family', 'Family', 'Order', 'Class',\n",
      "       'Phylum', 'Kingdom', 'Realm', 'Baltimore Group', 'Genbank Division',\n",
      "       'Isolation Host (beware inconsistent and nonsense values)'],\n",
      "      dtype='object')\n"
     ]
    }
   ],
   "source": [
    "print(metadata.columns)"
   ]
  },
  {
   "cell_type": "code",
   "execution_count": 50,
   "metadata": {},
   "outputs": [],
   "source": [
    "metadata = metadata[[\"Accession\", \"Genus\", \"Family\", \"Host\"]]"
   ]
  },
  {
   "cell_type": "code",
   "execution_count": 51,
   "metadata": {},
   "outputs": [
    {
     "data": {
      "text/html": [
       "<div>\n",
       "<style scoped>\n",
       "    .dataframe tbody tr th:only-of-type {\n",
       "        vertical-align: middle;\n",
       "    }\n",
       "\n",
       "    .dataframe tbody tr th {\n",
       "        vertical-align: top;\n",
       "    }\n",
       "\n",
       "    .dataframe thead th {\n",
       "        text-align: right;\n",
       "    }\n",
       "</style>\n",
       "<table border=\"1\" class=\"dataframe\">\n",
       "  <thead>\n",
       "    <tr style=\"text-align: right;\">\n",
       "      <th></th>\n",
       "      <th>Accession</th>\n",
       "      <th>Genus</th>\n",
       "      <th>Family</th>\n",
       "      <th>Host</th>\n",
       "    </tr>\n",
       "  </thead>\n",
       "  <tbody>\n",
       "    <tr>\n",
       "      <th>0</th>\n",
       "      <td>AY319521</td>\n",
       "      <td>Felsduovirus</td>\n",
       "      <td>Peduoviridae</td>\n",
       "      <td>Salmonella</td>\n",
       "    </tr>\n",
       "    <tr>\n",
       "      <th>1</th>\n",
       "      <td>MW175890</td>\n",
       "      <td>Phapecoctavirus</td>\n",
       "      <td>Unclassified</td>\n",
       "      <td>Dompiswa</td>\n",
       "    </tr>\n",
       "    <tr>\n",
       "      <th>2</th>\n",
       "      <td>GU339467</td>\n",
       "      <td>Fromanvirus</td>\n",
       "      <td>Unclassified</td>\n",
       "      <td>Mycobacterium</td>\n",
       "    </tr>\n",
       "    <tr>\n",
       "      <th>3</th>\n",
       "      <td>MF417929</td>\n",
       "      <td>Bracchivirus</td>\n",
       "      <td>Peduoviridae</td>\n",
       "      <td>Unspecified</td>\n",
       "    </tr>\n",
       "    <tr>\n",
       "      <th>4</th>\n",
       "      <td>MH616963</td>\n",
       "      <td>Whopevirus</td>\n",
       "      <td>Intestiviridae</td>\n",
       "      <td>Unspecified</td>\n",
       "    </tr>\n",
       "  </tbody>\n",
       "</table>\n",
       "</div>"
      ],
      "text/plain": [
       "  Accession            Genus          Family           Host\n",
       "0  AY319521     Felsduovirus    Peduoviridae     Salmonella\n",
       "1  MW175890  Phapecoctavirus    Unclassified       Dompiswa\n",
       "2  GU339467      Fromanvirus    Unclassified  Mycobacterium\n",
       "3  MF417929     Bracchivirus    Peduoviridae    Unspecified\n",
       "4  MH616963       Whopevirus  Intestiviridae    Unspecified"
      ]
     },
     "execution_count": 51,
     "metadata": {},
     "output_type": "execute_result"
    }
   ],
   "source": [
    "metadata.head()"
   ]
  }
 ],
 "metadata": {
  "kernelspec": {
   "display_name": ".venv",
   "language": "python",
   "name": "python3"
  },
  "language_info": {
   "codemirror_mode": {
    "name": "ipython",
    "version": 3
   },
   "file_extension": ".py",
   "mimetype": "text/x-python",
   "name": "python",
   "nbconvert_exporter": "python",
   "pygments_lexer": "ipython3",
   "version": "3.12.9"
  }
 },
 "nbformat": 4,
 "nbformat_minor": 2
}
